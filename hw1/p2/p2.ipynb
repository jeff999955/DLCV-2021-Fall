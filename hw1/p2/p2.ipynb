{
 "cells": [
  {
   "cell_type": "code",
   "execution_count": 2,
   "id": "f5c0064e",
   "metadata": {
    "scrolled": true
   },
   "outputs": [],
   "source": [
    "import torch\n",
    "import torch.nn as nn\n",
    "import torch.optim as optim\n",
    "from torchvision import models\n",
    "import numpy as np\n",
    "from PIL import Image\n",
    "from torch.utils.data import DataLoader\n",
    "from torch.utils.data.dataset import Dataset\n",
    "import glob\n",
    "import torchvision.transforms as transforms"
   ]
  },
  {
   "cell_type": "code",
   "execution_count": 2,
   "id": "c975e715",
   "metadata": {},
   "outputs": [],
   "source": [
    "batch_size = 16\n",
    "n_epochs = 100"
   ]
  },
  {
   "cell_type": "code",
   "execution_count": 3,
   "id": "ce47624b",
   "metadata": {},
   "outputs": [],
   "source": [
    "train_path = '/tmp2/b08902134/testdata/hw1_data/p2_data/train/'\n",
    "valid_path = '/tmp2/b08902134/testdata/hw1_data/p2_data/validation/'\n",
    "chkpt_dir = '/tmp2/b08902134/hw1_checkpoint/'"
   ]
  },
  {
   "cell_type": "code",
   "execution_count": 4,
   "id": "a8bac5fc",
   "metadata": {},
   "outputs": [],
   "source": [
    "def mask_target(path):\n",
    "    mask = Image.open(path).convert('RGB')\n",
    "    mask = np.array(mask).astype(np.uint8)\n",
    "    mask = (mask >= 128).astype(int)\n",
    "    mask = 4 * mask[:, :, 0] + 2 * mask[:, :, 1] + mask[:, :, 2]\n",
    "    masks = np.zeros((512,512))\n",
    "    masks[mask == 3] = 0  # (Cyan: 011) Urban land \n",
    "    masks[mask == 6] = 1  # (Yellow: 110) Agriculture land \n",
    "    masks[mask == 5] = 2  # (Purple: 101) Rangeland \n",
    "    masks[mask == 2] = 3  # (Green: 010) Forest land \n",
    "    masks[mask == 1] = 4  # (Blue: 001) Water \n",
    "    masks[mask == 7] = 5  # (White: 111) Barren land \n",
    "    masks[mask == 0] = 6  # (Black: 000) Unknown\n",
    "    masks[mask == 4] = 6  # (Red: 100) Unknown\n",
    "    \n",
    "    return torch.LongTensor(masks)"
   ]
  },
  {
   "cell_type": "code",
   "execution_count": 4,
   "id": "400b2180",
   "metadata": {},
   "outputs": [],
   "source": [
    "transform = transforms.Compose([\n",
    "        transforms.ToTensor(),\n",
    "        transforms.Normalize([0.485,0.456,0.406], [0.229,0.224,0.225])\n",
    "    ])"
   ]
  },
  {
   "cell_type": "code",
   "execution_count": 6,
   "id": "5926e249",
   "metadata": {},
   "outputs": [],
   "source": [
    "class TrainSet(Dataset):\n",
    "    def __init__(self, path, transform = None, phase = 'train'):\n",
    "        self.images = None\n",
    "        self.labels = None\n",
    "        self.length = 2000 if phase == 'train' else 257\n",
    "        self.filenames = [(\"{}{:04}_sat.jpg\".format(path,i), \"{}{:04}_mask.png\".format(path,i)) for i in range(self.length)]\n",
    "        self.transform = transform\n",
    "                              \n",
    "    def __getitem__(self, idx):\n",
    "        sat_name, mask_name= self.filenames[idx]\n",
    "        sat = Image.open(sat_name).convert('RGB')\n",
    "        if self.transform is not None:\n",
    "            sat = self.transform(sat)\n",
    "\n",
    "        return sat, mask_target(mask_name)\n",
    "\n",
    "    def __len__(self):\n",
    "        return self.length"
   ]
  },
  {
   "cell_type": "code",
   "execution_count": 11,
   "id": "3603d481",
   "metadata": {},
   "outputs": [],
   "source": [
    "class VGG16_FCN32(nn.Module):\n",
    "    def __init__(self, n_class = 7):\n",
    "        super(VGG16_FCN32, self).__init__()\n",
    "        self.name = 'vgg16_fcn32'\n",
    "        self.vgg = models.vgg16(pretrained = True).features\n",
    "        self.fcn = nn.Sequential(\n",
    "                nn.Conv2d(512, 4096, 1),\n",
    "                nn.ReLU(inplace=True),\n",
    "                nn.Dropout2d(),\n",
    "                nn.Conv2d(4096, 4096, 1),\n",
    "                nn.ReLU(inplace=True),\n",
    "                nn.Dropout2d()\n",
    "            )\n",
    "        self.score_fr = nn.Conv2d(4096, n_class, 1)\n",
    "        self.upscore = nn.ConvTranspose2d(n_class, n_class, 64, stride=32, bias = False)\n",
    "        \n",
    "        # self._initialize_weights()\n",
    "        \n",
    "    def forward(self, x):\n",
    "        shape = x.shape\n",
    "        x = self.vgg(x)\n",
    "        x = self.fcn(x)\n",
    "        x = self.score_fr(x)\n",
    "        x = self.upscore(x)\n",
    "        x = x[:, :, 16: 16 + shape[2], 16: 16 + shape[3]]\n",
    "        return x\n",
    "    "
   ]
  },
  {
   "cell_type": "code",
   "execution_count": 12,
   "id": "4a9d632a",
   "metadata": {},
   "outputs": [],
   "source": [
    "class WarmupPolyLR(torch.optim.lr_scheduler._LRScheduler):\n",
    "    def __init__(self, optimizer, target_lr=0, max_iters=0, power=0.9, warmup_factor=1.0 / 3,\n",
    "                 warmup_iters=500, warmup_method='linear', last_epoch=-1):\n",
    "        if warmup_method not in (\"constant\", \"linear\"):\n",
    "            raise ValueError(\n",
    "                \"Only 'constant' or 'linear' warmup_method accepted \"\n",
    "                \"got {}\".format(warmup_method))\n",
    "\n",
    "        self.target_lr = target_lr\n",
    "        self.max_iters = max_iters\n",
    "        self.power = power\n",
    "        self.warmup_factor = warmup_factor\n",
    "        self.warmup_iters = warmup_iters\n",
    "        self.warmup_method = warmup_method\n",
    "\n",
    "        super(WarmupPolyLR, self).__init__(optimizer, last_epoch)\n",
    "\n",
    "    def get_lr(self):\n",
    "        N = self.max_iters - self.warmup_iters\n",
    "        T = self.last_epoch - self.warmup_iters\n",
    "        if self.last_epoch < self.warmup_iters:\n",
    "            if self.warmup_method == 'constant':\n",
    "                warmup_factor = self.warmup_factor\n",
    "            elif self.warmup_method == 'linear':\n",
    "                alpha = float(self.last_epoch) / self.warmup_iters\n",
    "                warmup_factor = self.warmup_factor * (1 - alpha) + alpha\n",
    "            else:\n",
    "                raise ValueError(\"Unknown warmup type.\")\n",
    "            return [self.target_lr + (base_lr - self.target_lr) * warmup_factor for base_lr in self.base_lrs]\n",
    "        factor = pow(1 - T / N, self.power)\n",
    "        return [self.target_lr + (base_lr - self.target_lr) * factor for base_lr in self.base_lrs]"
   ]
  },
  {
   "cell_type": "code",
   "execution_count": 17,
   "id": "7b8902b2",
   "metadata": {},
   "outputs": [],
   "source": [
    "train_set = TrainSet(train_path, transform)\n",
    "valid_set = TrainSet(valid_path, transform, phase = 'dev')\n",
    "device = 'cuda:0'\n",
    "train_loader = DataLoader(train_set, batch_size = batch_size, shuffle = True, num_workers=8, pin_memory=True)\n",
    "valid_loader = DataLoader(valid_set, batch_size= batch_size, shuffle = False, num_workers=8, pin_memory=True)"
   ]
  },
  {
   "cell_type": "code",
   "execution_count": 18,
   "id": "4703fe34",
   "metadata": {},
   "outputs": [],
   "source": [
    "model = VGG16_FCN32().to(device)\n",
    "criterion = nn.CrossEntropyLoss()\n",
    "optimizer = torch.optim.SGD(model.parameters(), lr = 1e-4, momentum = 0.9, weight_decay = 2e-4)\n",
    "scheduler = WarmupPolyLR(optimizer, power=0.9)"
   ]
  },
  {
   "cell_type": "code",
   "execution_count": 15,
   "id": "6f081077",
   "metadata": {},
   "outputs": [],
   "source": [
    "def mean_iou_score(pred, labels):\n",
    "    mean_iou = 0\n",
    "    for i in range(6):\n",
    "        tp_fp = np.sum(pred == i)\n",
    "        tp_fn = np.sum(labels == i)\n",
    "        tp = np.sum((pred == i) * (labels == i))\n",
    "        iou = tp / (tp_fp + tp_fn - tp)\n",
    "        mean_iou += iou / 6\n",
    "\n",
    "    return mean_iou"
   ]
  },
  {
   "cell_type": "code",
   "execution_count": null,
   "id": "7cda0cad",
   "metadata": {
    "scrolled": true
   },
   "outputs": [
    {
     "name": "stdout",
     "output_type": "stream",
     "text": [
      "----------\n",
      "Epoch 1/100\n"
     ]
    },
    {
     "name": "stderr",
     "output_type": "stream",
     "text": [
      "100%|█████████████████████████████████████████████████████████████| 125/125 [01:34<00:00,  1.32it/s]"
     ]
    },
    {
     "name": "stdout",
     "output_type": "stream",
     "text": [
      "[ Train | 001/100 ] loss = 1.94590\n"
     ]
    },
    {
     "name": "stderr",
     "output_type": "stream",
     "text": [
      "\n"
     ]
    },
    {
     "name": "stdout",
     "output_type": "stream",
     "text": [
      "[ Valid | 001/100 ] loss = 1.94590 mean_iou = 0.06520\n",
      "----------\n",
      "Epoch 2/100\n"
     ]
    },
    {
     "name": "stderr",
     "output_type": "stream",
     "text": [
      "100%|█████████████████████████████████████████████████████████████| 125/125 [01:12<00:00,  1.72it/s]"
     ]
    },
    {
     "name": "stdout",
     "output_type": "stream",
     "text": [
      "[ Train | 002/100 ] loss = 1.94590\n"
     ]
    },
    {
     "name": "stderr",
     "output_type": "stream",
     "text": [
      "\n"
     ]
    },
    {
     "name": "stdout",
     "output_type": "stream",
     "text": [
      "[ Valid | 002/100 ] loss = 1.94590 mean_iou = 0.06523\n",
      "----------\n",
      "Epoch 3/100\n"
     ]
    },
    {
     "name": "stderr",
     "output_type": "stream",
     "text": [
      " 14%|████████▍                                                     | 17/125 [00:13<00:49,  2.20it/s]"
     ]
    }
   ],
   "source": [
    "best_acc = 0.0\n",
    "result = []\n",
    "from tqdm import tqdm\n",
    "for epoch in range(n_epochs):\n",
    "    print('-' * 10)\n",
    "    print('Epoch {}/{}'.format(epoch + 1, n_epochs))\n",
    "    \n",
    "    model.train()\n",
    "    train_loss = []\n",
    "    train_accs = []\n",
    "    for batch in tqdm(train_loader):\n",
    "        imgs, target = batch\n",
    "        imgs, target = imgs.to(device), target.to(device)\n",
    "        optimizer.zero_grad()\n",
    "        logits = model(imgs)\n",
    "        loss = criterion(logits, target)\n",
    "        loss.backward()\n",
    "        optimizer.step()\n",
    "        # scheduler.step()\n",
    "\n",
    "        train_loss.append(loss.item())\n",
    "    train_loss = sum(train_loss) / len(train_loss)\n",
    "\n",
    "    print(f\"[ Train | {epoch + 1:03d}/{n_epochs:03d} ] loss = {train_loss:.5f}\")\n",
    "\n",
    "    model.eval()\n",
    "    valid_loss = []\n",
    "    valid_accs = []\n",
    "    labels, prediction = [], []\n",
    "    mean_iou = 0\n",
    "    tp_fp = torch.zeros(6, device=device)\n",
    "    tp_fn = torch.zeros(6, device=device)\n",
    "    tp = torch.zeros(6, device=device)\n",
    "    with torch.no_grad():\n",
    "        for imgs, target in valid_loader:\n",
    "            imgs, target = imgs.to(device), target.to(device)\n",
    "            output = model(imgs)\n",
    "            loss = criterion(output, target)\n",
    "            valid_loss.append(loss.item())\n",
    "            pred = output.max(1, keepdim=True)[1].view_as(target)\n",
    "            for i in range(6):\n",
    "                tp_fp[i] += torch.sum(pred == i)\n",
    "                tp_fn[i] += torch.sum(target == i)\n",
    "                tp[i] += torch.sum((pred == i) * (target == i))\n",
    "\n",
    "    val_loss = sum(valid_loss) / len(valid_loss)\n",
    "\n",
    "    for i in range(6):\n",
    "        iou = tp[i] / (tp_fp[i] + tp_fn[i] - tp[i])\n",
    "        mean_iou += iou / 6\n",
    "\n",
    "    valid_loss = sum(valid_loss) / len(valid_loss)\n",
    "    print(f\"[ Valid | {epoch + 1:03d}/{n_epochs:03d} ] loss = {valid_loss:.5f} mean_iou = {mean_iou:.5f}\")\n",
    "    result.append((epoch + 1, valid_loss, mean_iou))\n",
    "    torch.save(model.state_dict(), f'{chkpt_dir}{model.name}_{epoch + 1}.ckpt', _use_new_zipfile_serialization = False)"
   ]
  },
  {
   "cell_type": "code",
   "execution_count": 9,
   "id": "e26bf4fa",
   "metadata": {},
   "outputs": [],
   "source": [
    "import os"
   ]
  },
  {
   "cell_type": "code",
   "execution_count": 19,
   "id": "1a0b7ac3",
   "metadata": {},
   "outputs": [],
   "source": [
    "class TestSet(Dataset):\n",
    "    def __init__(self, path, transform = None):\n",
    "        self.filenames = sorted(glob.glob(os.path.join(path, '*.jpg')))\n",
    "        print(self.filenames)\n",
    "        self.transform = transform\n",
    "                              \n",
    "    def __getitem__(self, idx):\n",
    "        sat_name = self.filenames[idx]\n",
    "        sat = Image.open(sat_name).convert('RGB')\n",
    "        if self.transform is not None:\n",
    "            sat = self.transform(sat)\n",
    "        return sat, sat_name.split('/')[-1].split('_')[0]\n",
    "\n",
    "    def __len__(self):\n",
    "        return len(self.filenames)"
   ]
  },
  {
   "cell_type": "code",
   "execution_count": 20,
   "id": "813998bd",
   "metadata": {},
   "outputs": [],
   "source": [
    "device = torch.device('cuda')"
   ]
  },
  {
   "cell_type": "code",
   "execution_count": 21,
   "id": "5b8f232a",
   "metadata": {},
   "outputs": [],
   "source": [
    "class FCN32s(nn.Module):\n",
    "    def __init__(self, n_class = 7):\n",
    "        super(FCN32s, self).__init__()\n",
    "        self.name = 'vgg16_fcn32'\n",
    "        self.vgg = models.vgg16(pretrained = True).features\n",
    "        self.fcn = nn.Sequential(\n",
    "                nn.Conv2d(512, 4096, 1),\n",
    "                nn.ReLU(inplace=True),\n",
    "                nn.Dropout2d(),\n",
    "                nn.Conv2d(4096, 4096, 1),\n",
    "                nn.ReLU(inplace=True),\n",
    "                nn.Dropout2d()\n",
    "            )\n",
    "        self.score_fr = nn.Conv2d(4096, n_class, 1)\n",
    "        self.upscore = nn.ConvTranspose2d(n_class, n_class, 64, stride=32, bias = False)\n",
    "        \n",
    "        \n",
    "    def forward(self, x):\n",
    "        shape = x.shape\n",
    "        x = self.vgg(x)\n",
    "        x = self.fcn(x)\n",
    "        x = self.score_fr(x)\n",
    "        x = self.upscore(x)\n",
    "        x = x[:, :, 32: 32+ shape[2], 32: 32 + shape[3]]\n",
    "        return x"
   ]
  },
  {
   "cell_type": "code",
   "execution_count": 22,
   "id": "30b632ef",
   "metadata": {},
   "outputs": [
    {
     "name": "stdout",
     "output_type": "stream",
     "text": [
      "['/tmp2/b08902134/testdata/hw1_data/p2_data/validation/0000_sat.jpg', '/tmp2/b08902134/testdata/hw1_data/p2_data/validation/0001_sat.jpg', '/tmp2/b08902134/testdata/hw1_data/p2_data/validation/0002_sat.jpg', '/tmp2/b08902134/testdata/hw1_data/p2_data/validation/0003_sat.jpg', '/tmp2/b08902134/testdata/hw1_data/p2_data/validation/0004_sat.jpg', '/tmp2/b08902134/testdata/hw1_data/p2_data/validation/0005_sat.jpg', '/tmp2/b08902134/testdata/hw1_data/p2_data/validation/0006_sat.jpg', '/tmp2/b08902134/testdata/hw1_data/p2_data/validation/0007_sat.jpg', '/tmp2/b08902134/testdata/hw1_data/p2_data/validation/0008_sat.jpg', '/tmp2/b08902134/testdata/hw1_data/p2_data/validation/0009_sat.jpg', '/tmp2/b08902134/testdata/hw1_data/p2_data/validation/0010_sat.jpg', '/tmp2/b08902134/testdata/hw1_data/p2_data/validation/0011_sat.jpg', '/tmp2/b08902134/testdata/hw1_data/p2_data/validation/0012_sat.jpg', '/tmp2/b08902134/testdata/hw1_data/p2_data/validation/0013_sat.jpg', '/tmp2/b08902134/testdata/hw1_data/p2_data/validation/0014_sat.jpg', '/tmp2/b08902134/testdata/hw1_data/p2_data/validation/0015_sat.jpg', '/tmp2/b08902134/testdata/hw1_data/p2_data/validation/0016_sat.jpg', '/tmp2/b08902134/testdata/hw1_data/p2_data/validation/0017_sat.jpg', '/tmp2/b08902134/testdata/hw1_data/p2_data/validation/0018_sat.jpg', '/tmp2/b08902134/testdata/hw1_data/p2_data/validation/0019_sat.jpg', '/tmp2/b08902134/testdata/hw1_data/p2_data/validation/0020_sat.jpg', '/tmp2/b08902134/testdata/hw1_data/p2_data/validation/0021_sat.jpg', '/tmp2/b08902134/testdata/hw1_data/p2_data/validation/0022_sat.jpg', '/tmp2/b08902134/testdata/hw1_data/p2_data/validation/0023_sat.jpg', '/tmp2/b08902134/testdata/hw1_data/p2_data/validation/0024_sat.jpg', '/tmp2/b08902134/testdata/hw1_data/p2_data/validation/0025_sat.jpg', '/tmp2/b08902134/testdata/hw1_data/p2_data/validation/0026_sat.jpg', '/tmp2/b08902134/testdata/hw1_data/p2_data/validation/0027_sat.jpg', '/tmp2/b08902134/testdata/hw1_data/p2_data/validation/0028_sat.jpg', '/tmp2/b08902134/testdata/hw1_data/p2_data/validation/0029_sat.jpg', '/tmp2/b08902134/testdata/hw1_data/p2_data/validation/0030_sat.jpg', '/tmp2/b08902134/testdata/hw1_data/p2_data/validation/0031_sat.jpg', '/tmp2/b08902134/testdata/hw1_data/p2_data/validation/0032_sat.jpg', '/tmp2/b08902134/testdata/hw1_data/p2_data/validation/0033_sat.jpg', '/tmp2/b08902134/testdata/hw1_data/p2_data/validation/0034_sat.jpg', '/tmp2/b08902134/testdata/hw1_data/p2_data/validation/0035_sat.jpg', '/tmp2/b08902134/testdata/hw1_data/p2_data/validation/0036_sat.jpg', '/tmp2/b08902134/testdata/hw1_data/p2_data/validation/0037_sat.jpg', '/tmp2/b08902134/testdata/hw1_data/p2_data/validation/0038_sat.jpg', '/tmp2/b08902134/testdata/hw1_data/p2_data/validation/0039_sat.jpg', '/tmp2/b08902134/testdata/hw1_data/p2_data/validation/0040_sat.jpg', '/tmp2/b08902134/testdata/hw1_data/p2_data/validation/0041_sat.jpg', '/tmp2/b08902134/testdata/hw1_data/p2_data/validation/0042_sat.jpg', '/tmp2/b08902134/testdata/hw1_data/p2_data/validation/0043_sat.jpg', '/tmp2/b08902134/testdata/hw1_data/p2_data/validation/0044_sat.jpg', '/tmp2/b08902134/testdata/hw1_data/p2_data/validation/0045_sat.jpg', '/tmp2/b08902134/testdata/hw1_data/p2_data/validation/0046_sat.jpg', '/tmp2/b08902134/testdata/hw1_data/p2_data/validation/0047_sat.jpg', '/tmp2/b08902134/testdata/hw1_data/p2_data/validation/0048_sat.jpg', '/tmp2/b08902134/testdata/hw1_data/p2_data/validation/0049_sat.jpg', '/tmp2/b08902134/testdata/hw1_data/p2_data/validation/0050_sat.jpg', '/tmp2/b08902134/testdata/hw1_data/p2_data/validation/0051_sat.jpg', '/tmp2/b08902134/testdata/hw1_data/p2_data/validation/0052_sat.jpg', '/tmp2/b08902134/testdata/hw1_data/p2_data/validation/0053_sat.jpg', '/tmp2/b08902134/testdata/hw1_data/p2_data/validation/0054_sat.jpg', '/tmp2/b08902134/testdata/hw1_data/p2_data/validation/0055_sat.jpg', '/tmp2/b08902134/testdata/hw1_data/p2_data/validation/0056_sat.jpg', '/tmp2/b08902134/testdata/hw1_data/p2_data/validation/0057_sat.jpg', '/tmp2/b08902134/testdata/hw1_data/p2_data/validation/0058_sat.jpg', '/tmp2/b08902134/testdata/hw1_data/p2_data/validation/0059_sat.jpg', '/tmp2/b08902134/testdata/hw1_data/p2_data/validation/0060_sat.jpg', '/tmp2/b08902134/testdata/hw1_data/p2_data/validation/0061_sat.jpg', '/tmp2/b08902134/testdata/hw1_data/p2_data/validation/0062_sat.jpg', '/tmp2/b08902134/testdata/hw1_data/p2_data/validation/0063_sat.jpg', '/tmp2/b08902134/testdata/hw1_data/p2_data/validation/0064_sat.jpg', '/tmp2/b08902134/testdata/hw1_data/p2_data/validation/0065_sat.jpg', '/tmp2/b08902134/testdata/hw1_data/p2_data/validation/0066_sat.jpg', '/tmp2/b08902134/testdata/hw1_data/p2_data/validation/0067_sat.jpg', '/tmp2/b08902134/testdata/hw1_data/p2_data/validation/0068_sat.jpg', '/tmp2/b08902134/testdata/hw1_data/p2_data/validation/0069_sat.jpg', '/tmp2/b08902134/testdata/hw1_data/p2_data/validation/0070_sat.jpg', '/tmp2/b08902134/testdata/hw1_data/p2_data/validation/0071_sat.jpg', '/tmp2/b08902134/testdata/hw1_data/p2_data/validation/0072_sat.jpg', '/tmp2/b08902134/testdata/hw1_data/p2_data/validation/0073_sat.jpg', '/tmp2/b08902134/testdata/hw1_data/p2_data/validation/0074_sat.jpg', '/tmp2/b08902134/testdata/hw1_data/p2_data/validation/0075_sat.jpg', '/tmp2/b08902134/testdata/hw1_data/p2_data/validation/0076_sat.jpg', '/tmp2/b08902134/testdata/hw1_data/p2_data/validation/0077_sat.jpg', '/tmp2/b08902134/testdata/hw1_data/p2_data/validation/0078_sat.jpg', '/tmp2/b08902134/testdata/hw1_data/p2_data/validation/0079_sat.jpg', '/tmp2/b08902134/testdata/hw1_data/p2_data/validation/0080_sat.jpg', '/tmp2/b08902134/testdata/hw1_data/p2_data/validation/0081_sat.jpg', '/tmp2/b08902134/testdata/hw1_data/p2_data/validation/0082_sat.jpg', '/tmp2/b08902134/testdata/hw1_data/p2_data/validation/0083_sat.jpg', '/tmp2/b08902134/testdata/hw1_data/p2_data/validation/0084_sat.jpg', '/tmp2/b08902134/testdata/hw1_data/p2_data/validation/0085_sat.jpg', '/tmp2/b08902134/testdata/hw1_data/p2_data/validation/0086_sat.jpg', '/tmp2/b08902134/testdata/hw1_data/p2_data/validation/0087_sat.jpg', '/tmp2/b08902134/testdata/hw1_data/p2_data/validation/0088_sat.jpg', '/tmp2/b08902134/testdata/hw1_data/p2_data/validation/0089_sat.jpg', '/tmp2/b08902134/testdata/hw1_data/p2_data/validation/0090_sat.jpg', '/tmp2/b08902134/testdata/hw1_data/p2_data/validation/0091_sat.jpg', '/tmp2/b08902134/testdata/hw1_data/p2_data/validation/0092_sat.jpg', '/tmp2/b08902134/testdata/hw1_data/p2_data/validation/0093_sat.jpg', '/tmp2/b08902134/testdata/hw1_data/p2_data/validation/0094_sat.jpg', '/tmp2/b08902134/testdata/hw1_data/p2_data/validation/0095_sat.jpg', '/tmp2/b08902134/testdata/hw1_data/p2_data/validation/0096_sat.jpg', '/tmp2/b08902134/testdata/hw1_data/p2_data/validation/0097_sat.jpg', '/tmp2/b08902134/testdata/hw1_data/p2_data/validation/0098_sat.jpg', '/tmp2/b08902134/testdata/hw1_data/p2_data/validation/0099_sat.jpg', '/tmp2/b08902134/testdata/hw1_data/p2_data/validation/0100_sat.jpg', '/tmp2/b08902134/testdata/hw1_data/p2_data/validation/0101_sat.jpg', '/tmp2/b08902134/testdata/hw1_data/p2_data/validation/0102_sat.jpg', '/tmp2/b08902134/testdata/hw1_data/p2_data/validation/0103_sat.jpg', '/tmp2/b08902134/testdata/hw1_data/p2_data/validation/0104_sat.jpg', '/tmp2/b08902134/testdata/hw1_data/p2_data/validation/0105_sat.jpg', '/tmp2/b08902134/testdata/hw1_data/p2_data/validation/0106_sat.jpg', '/tmp2/b08902134/testdata/hw1_data/p2_data/validation/0107_sat.jpg', '/tmp2/b08902134/testdata/hw1_data/p2_data/validation/0108_sat.jpg', '/tmp2/b08902134/testdata/hw1_data/p2_data/validation/0109_sat.jpg', '/tmp2/b08902134/testdata/hw1_data/p2_data/validation/0110_sat.jpg', '/tmp2/b08902134/testdata/hw1_data/p2_data/validation/0111_sat.jpg', '/tmp2/b08902134/testdata/hw1_data/p2_data/validation/0112_sat.jpg', '/tmp2/b08902134/testdata/hw1_data/p2_data/validation/0113_sat.jpg', '/tmp2/b08902134/testdata/hw1_data/p2_data/validation/0114_sat.jpg', '/tmp2/b08902134/testdata/hw1_data/p2_data/validation/0115_sat.jpg', '/tmp2/b08902134/testdata/hw1_data/p2_data/validation/0116_sat.jpg', '/tmp2/b08902134/testdata/hw1_data/p2_data/validation/0117_sat.jpg', '/tmp2/b08902134/testdata/hw1_data/p2_data/validation/0118_sat.jpg', '/tmp2/b08902134/testdata/hw1_data/p2_data/validation/0119_sat.jpg', '/tmp2/b08902134/testdata/hw1_data/p2_data/validation/0120_sat.jpg', '/tmp2/b08902134/testdata/hw1_data/p2_data/validation/0121_sat.jpg', '/tmp2/b08902134/testdata/hw1_data/p2_data/validation/0122_sat.jpg', '/tmp2/b08902134/testdata/hw1_data/p2_data/validation/0123_sat.jpg', '/tmp2/b08902134/testdata/hw1_data/p2_data/validation/0124_sat.jpg', '/tmp2/b08902134/testdata/hw1_data/p2_data/validation/0125_sat.jpg', '/tmp2/b08902134/testdata/hw1_data/p2_data/validation/0126_sat.jpg', '/tmp2/b08902134/testdata/hw1_data/p2_data/validation/0127_sat.jpg', '/tmp2/b08902134/testdata/hw1_data/p2_data/validation/0128_sat.jpg', '/tmp2/b08902134/testdata/hw1_data/p2_data/validation/0129_sat.jpg', '/tmp2/b08902134/testdata/hw1_data/p2_data/validation/0130_sat.jpg', '/tmp2/b08902134/testdata/hw1_data/p2_data/validation/0131_sat.jpg', '/tmp2/b08902134/testdata/hw1_data/p2_data/validation/0132_sat.jpg', '/tmp2/b08902134/testdata/hw1_data/p2_data/validation/0133_sat.jpg', '/tmp2/b08902134/testdata/hw1_data/p2_data/validation/0134_sat.jpg', '/tmp2/b08902134/testdata/hw1_data/p2_data/validation/0135_sat.jpg', '/tmp2/b08902134/testdata/hw1_data/p2_data/validation/0136_sat.jpg', '/tmp2/b08902134/testdata/hw1_data/p2_data/validation/0137_sat.jpg', '/tmp2/b08902134/testdata/hw1_data/p2_data/validation/0138_sat.jpg', '/tmp2/b08902134/testdata/hw1_data/p2_data/validation/0139_sat.jpg', '/tmp2/b08902134/testdata/hw1_data/p2_data/validation/0140_sat.jpg', '/tmp2/b08902134/testdata/hw1_data/p2_data/validation/0141_sat.jpg', '/tmp2/b08902134/testdata/hw1_data/p2_data/validation/0142_sat.jpg', '/tmp2/b08902134/testdata/hw1_data/p2_data/validation/0143_sat.jpg', '/tmp2/b08902134/testdata/hw1_data/p2_data/validation/0144_sat.jpg', '/tmp2/b08902134/testdata/hw1_data/p2_data/validation/0145_sat.jpg', '/tmp2/b08902134/testdata/hw1_data/p2_data/validation/0146_sat.jpg', '/tmp2/b08902134/testdata/hw1_data/p2_data/validation/0147_sat.jpg', '/tmp2/b08902134/testdata/hw1_data/p2_data/validation/0148_sat.jpg', '/tmp2/b08902134/testdata/hw1_data/p2_data/validation/0149_sat.jpg', '/tmp2/b08902134/testdata/hw1_data/p2_data/validation/0150_sat.jpg', '/tmp2/b08902134/testdata/hw1_data/p2_data/validation/0151_sat.jpg', '/tmp2/b08902134/testdata/hw1_data/p2_data/validation/0152_sat.jpg', '/tmp2/b08902134/testdata/hw1_data/p2_data/validation/0153_sat.jpg', '/tmp2/b08902134/testdata/hw1_data/p2_data/validation/0154_sat.jpg', '/tmp2/b08902134/testdata/hw1_data/p2_data/validation/0155_sat.jpg', '/tmp2/b08902134/testdata/hw1_data/p2_data/validation/0156_sat.jpg', '/tmp2/b08902134/testdata/hw1_data/p2_data/validation/0157_sat.jpg', '/tmp2/b08902134/testdata/hw1_data/p2_data/validation/0158_sat.jpg', '/tmp2/b08902134/testdata/hw1_data/p2_data/validation/0159_sat.jpg', '/tmp2/b08902134/testdata/hw1_data/p2_data/validation/0160_sat.jpg', '/tmp2/b08902134/testdata/hw1_data/p2_data/validation/0161_sat.jpg', '/tmp2/b08902134/testdata/hw1_data/p2_data/validation/0162_sat.jpg', '/tmp2/b08902134/testdata/hw1_data/p2_data/validation/0163_sat.jpg', '/tmp2/b08902134/testdata/hw1_data/p2_data/validation/0164_sat.jpg', '/tmp2/b08902134/testdata/hw1_data/p2_data/validation/0165_sat.jpg', '/tmp2/b08902134/testdata/hw1_data/p2_data/validation/0166_sat.jpg', '/tmp2/b08902134/testdata/hw1_data/p2_data/validation/0167_sat.jpg', '/tmp2/b08902134/testdata/hw1_data/p2_data/validation/0168_sat.jpg', '/tmp2/b08902134/testdata/hw1_data/p2_data/validation/0169_sat.jpg', '/tmp2/b08902134/testdata/hw1_data/p2_data/validation/0170_sat.jpg', '/tmp2/b08902134/testdata/hw1_data/p2_data/validation/0171_sat.jpg', '/tmp2/b08902134/testdata/hw1_data/p2_data/validation/0172_sat.jpg', '/tmp2/b08902134/testdata/hw1_data/p2_data/validation/0173_sat.jpg', '/tmp2/b08902134/testdata/hw1_data/p2_data/validation/0174_sat.jpg', '/tmp2/b08902134/testdata/hw1_data/p2_data/validation/0175_sat.jpg', '/tmp2/b08902134/testdata/hw1_data/p2_data/validation/0176_sat.jpg', '/tmp2/b08902134/testdata/hw1_data/p2_data/validation/0177_sat.jpg', '/tmp2/b08902134/testdata/hw1_data/p2_data/validation/0178_sat.jpg', '/tmp2/b08902134/testdata/hw1_data/p2_data/validation/0179_sat.jpg', '/tmp2/b08902134/testdata/hw1_data/p2_data/validation/0180_sat.jpg', '/tmp2/b08902134/testdata/hw1_data/p2_data/validation/0181_sat.jpg', '/tmp2/b08902134/testdata/hw1_data/p2_data/validation/0182_sat.jpg', '/tmp2/b08902134/testdata/hw1_data/p2_data/validation/0183_sat.jpg', '/tmp2/b08902134/testdata/hw1_data/p2_data/validation/0184_sat.jpg', '/tmp2/b08902134/testdata/hw1_data/p2_data/validation/0185_sat.jpg', '/tmp2/b08902134/testdata/hw1_data/p2_data/validation/0186_sat.jpg', '/tmp2/b08902134/testdata/hw1_data/p2_data/validation/0187_sat.jpg', '/tmp2/b08902134/testdata/hw1_data/p2_data/validation/0188_sat.jpg', '/tmp2/b08902134/testdata/hw1_data/p2_data/validation/0189_sat.jpg', '/tmp2/b08902134/testdata/hw1_data/p2_data/validation/0190_sat.jpg', '/tmp2/b08902134/testdata/hw1_data/p2_data/validation/0191_sat.jpg', '/tmp2/b08902134/testdata/hw1_data/p2_data/validation/0192_sat.jpg', '/tmp2/b08902134/testdata/hw1_data/p2_data/validation/0193_sat.jpg', '/tmp2/b08902134/testdata/hw1_data/p2_data/validation/0194_sat.jpg', '/tmp2/b08902134/testdata/hw1_data/p2_data/validation/0195_sat.jpg', '/tmp2/b08902134/testdata/hw1_data/p2_data/validation/0196_sat.jpg', '/tmp2/b08902134/testdata/hw1_data/p2_data/validation/0197_sat.jpg', '/tmp2/b08902134/testdata/hw1_data/p2_data/validation/0198_sat.jpg', '/tmp2/b08902134/testdata/hw1_data/p2_data/validation/0199_sat.jpg', '/tmp2/b08902134/testdata/hw1_data/p2_data/validation/0200_sat.jpg', '/tmp2/b08902134/testdata/hw1_data/p2_data/validation/0201_sat.jpg', '/tmp2/b08902134/testdata/hw1_data/p2_data/validation/0202_sat.jpg', '/tmp2/b08902134/testdata/hw1_data/p2_data/validation/0203_sat.jpg', '/tmp2/b08902134/testdata/hw1_data/p2_data/validation/0204_sat.jpg', '/tmp2/b08902134/testdata/hw1_data/p2_data/validation/0205_sat.jpg', '/tmp2/b08902134/testdata/hw1_data/p2_data/validation/0206_sat.jpg', '/tmp2/b08902134/testdata/hw1_data/p2_data/validation/0207_sat.jpg', '/tmp2/b08902134/testdata/hw1_data/p2_data/validation/0208_sat.jpg', '/tmp2/b08902134/testdata/hw1_data/p2_data/validation/0209_sat.jpg', '/tmp2/b08902134/testdata/hw1_data/p2_data/validation/0210_sat.jpg', '/tmp2/b08902134/testdata/hw1_data/p2_data/validation/0211_sat.jpg', '/tmp2/b08902134/testdata/hw1_data/p2_data/validation/0212_sat.jpg', '/tmp2/b08902134/testdata/hw1_data/p2_data/validation/0213_sat.jpg', '/tmp2/b08902134/testdata/hw1_data/p2_data/validation/0214_sat.jpg', '/tmp2/b08902134/testdata/hw1_data/p2_data/validation/0215_sat.jpg', '/tmp2/b08902134/testdata/hw1_data/p2_data/validation/0216_sat.jpg', '/tmp2/b08902134/testdata/hw1_data/p2_data/validation/0217_sat.jpg', '/tmp2/b08902134/testdata/hw1_data/p2_data/validation/0218_sat.jpg', '/tmp2/b08902134/testdata/hw1_data/p2_data/validation/0219_sat.jpg', '/tmp2/b08902134/testdata/hw1_data/p2_data/validation/0220_sat.jpg', '/tmp2/b08902134/testdata/hw1_data/p2_data/validation/0221_sat.jpg', '/tmp2/b08902134/testdata/hw1_data/p2_data/validation/0222_sat.jpg', '/tmp2/b08902134/testdata/hw1_data/p2_data/validation/0223_sat.jpg', '/tmp2/b08902134/testdata/hw1_data/p2_data/validation/0224_sat.jpg', '/tmp2/b08902134/testdata/hw1_data/p2_data/validation/0225_sat.jpg', '/tmp2/b08902134/testdata/hw1_data/p2_data/validation/0226_sat.jpg', '/tmp2/b08902134/testdata/hw1_data/p2_data/validation/0227_sat.jpg', '/tmp2/b08902134/testdata/hw1_data/p2_data/validation/0228_sat.jpg', '/tmp2/b08902134/testdata/hw1_data/p2_data/validation/0229_sat.jpg', '/tmp2/b08902134/testdata/hw1_data/p2_data/validation/0230_sat.jpg', '/tmp2/b08902134/testdata/hw1_data/p2_data/validation/0231_sat.jpg', '/tmp2/b08902134/testdata/hw1_data/p2_data/validation/0232_sat.jpg', '/tmp2/b08902134/testdata/hw1_data/p2_data/validation/0233_sat.jpg', '/tmp2/b08902134/testdata/hw1_data/p2_data/validation/0234_sat.jpg', '/tmp2/b08902134/testdata/hw1_data/p2_data/validation/0235_sat.jpg', '/tmp2/b08902134/testdata/hw1_data/p2_data/validation/0236_sat.jpg', '/tmp2/b08902134/testdata/hw1_data/p2_data/validation/0237_sat.jpg', '/tmp2/b08902134/testdata/hw1_data/p2_data/validation/0238_sat.jpg', '/tmp2/b08902134/testdata/hw1_data/p2_data/validation/0239_sat.jpg', '/tmp2/b08902134/testdata/hw1_data/p2_data/validation/0240_sat.jpg', '/tmp2/b08902134/testdata/hw1_data/p2_data/validation/0241_sat.jpg', '/tmp2/b08902134/testdata/hw1_data/p2_data/validation/0242_sat.jpg', '/tmp2/b08902134/testdata/hw1_data/p2_data/validation/0243_sat.jpg', '/tmp2/b08902134/testdata/hw1_data/p2_data/validation/0244_sat.jpg', '/tmp2/b08902134/testdata/hw1_data/p2_data/validation/0245_sat.jpg', '/tmp2/b08902134/testdata/hw1_data/p2_data/validation/0246_sat.jpg', '/tmp2/b08902134/testdata/hw1_data/p2_data/validation/0247_sat.jpg', '/tmp2/b08902134/testdata/hw1_data/p2_data/validation/0248_sat.jpg', '/tmp2/b08902134/testdata/hw1_data/p2_data/validation/0249_sat.jpg', '/tmp2/b08902134/testdata/hw1_data/p2_data/validation/0250_sat.jpg', '/tmp2/b08902134/testdata/hw1_data/p2_data/validation/0251_sat.jpg', '/tmp2/b08902134/testdata/hw1_data/p2_data/validation/0252_sat.jpg', '/tmp2/b08902134/testdata/hw1_data/p2_data/validation/0253_sat.jpg', '/tmp2/b08902134/testdata/hw1_data/p2_data/validation/0254_sat.jpg', '/tmp2/b08902134/testdata/hw1_data/p2_data/validation/0255_sat.jpg', '/tmp2/b08902134/testdata/hw1_data/p2_data/validation/0256_sat.jpg']\n"
     ]
    }
   ],
   "source": [
    "model = FCN32s().to(device)\n",
    "model.load_state_dict(torch.load('/tmp2/b08902134/hw1_checkpoint/vgg16_fcn32_24.ckpt'))\n",
    "test_set = TestSet(valid_path, transform = transform)\n",
    "test_loader = DataLoader(test_set, batch_size=2, shuffle=False, num_workers=8, pin_memory=True)"
   ]
  },
  {
   "cell_type": "code",
   "execution_count": 24,
   "id": "7e7e0c95",
   "metadata": {},
   "outputs": [
    {
     "name": "stdout",
     "output_type": "stream",
     "text": [
      "tensor([[[[-0.1143, -0.1486, -0.2342,  ...,  0.1083,  0.0912,  0.0912],\n",
      "          [-0.0801, -0.1143, -0.1657,  ...,  0.1083,  0.0741,  0.0741],\n",
      "          [-0.0287, -0.0287, -0.0629,  ...,  0.0912,  0.0741,  0.0569],\n",
      "          ...,\n",
      "          [-1.1760, -0.9192, -0.5253,  ...,  0.0741,  0.0398,  0.0056],\n",
      "          [-1.3473, -1.2788, -0.9192,  ...,  0.0741,  0.0569,  0.0398],\n",
      "          [-0.9877, -1.2274, -1.1247,  ...,  0.0398,  0.0056, -0.0116]],\n",
      "\n",
      "         [[-0.2675, -0.3025, -0.3725,  ...,  0.0301,  0.0301,  0.0301],\n",
      "          [-0.2325, -0.2675, -0.3200,  ...,  0.0301,  0.0126,  0.0126],\n",
      "          [-0.2150, -0.2150, -0.2500,  ...,  0.0126,  0.0126, -0.0049],\n",
      "          ...,\n",
      "          [-1.0903, -0.8803, -0.5126,  ..., -0.0574, -0.1275, -0.1625],\n",
      "          [-1.1954, -1.1779, -0.8803,  ..., -0.0574, -0.1099, -0.1275],\n",
      "          [-0.8102, -1.0728, -1.0378,  ..., -0.0924, -0.1625, -0.1800]],\n",
      "\n",
      "         [[-0.4450, -0.4798, -0.5495,  ..., -0.1312, -0.1312, -0.1312],\n",
      "          [-0.4101, -0.4450, -0.4973,  ..., -0.1312, -0.1487, -0.1487],\n",
      "          [-0.3753, -0.3753, -0.4101,  ..., -0.1487, -0.1487, -0.1661],\n",
      "          ...,\n",
      "          [-1.3513, -1.1247, -0.7413,  ..., -0.3404, -0.3927, -0.4275],\n",
      "          [-1.4384, -1.4384, -1.1247,  ..., -0.3404, -0.3753, -0.3927],\n",
      "          [-1.0550, -1.3164, -1.2990,  ..., -0.3753, -0.4275, -0.4450]]],\n",
      "\n",
      "\n",
      "        [[[-1.1075, -1.1247, -1.1247,  ...,  0.2624,  0.1768,  0.2967],\n",
      "          [-1.1075, -1.1075, -1.1075,  ...,  0.1426,  0.1254,  0.1939],\n",
      "          [-1.1247, -1.1247, -1.0904,  ...,  0.1939,  0.0912,  0.0398],\n",
      "          ...,\n",
      "          [-0.1143, -0.0458, -0.1828,  ...,  0.4679,  0.4679,  0.4679],\n",
      "          [-0.1314, -0.0801, -0.2513,  ...,  0.4337,  0.4679,  0.5022],\n",
      "          [-0.1657, -0.1314, -0.3198,  ...,  0.3823,  0.4166,  0.4508]],\n",
      "\n",
      "         [[-0.8803, -0.8978, -0.9328,  ...,  0.2052,  0.1176,  0.2402],\n",
      "          [-0.8803, -0.8803, -0.9153,  ...,  0.1352,  0.0651,  0.1877],\n",
      "          [-0.8978, -0.8978, -0.8978,  ...,  0.2052,  0.0651,  0.0476],\n",
      "          ...,\n",
      "          [-0.1099, -0.0399, -0.1800,  ...,  0.3277,  0.3277,  0.3277],\n",
      "          [-0.1275, -0.0749, -0.2500,  ...,  0.2927,  0.3277,  0.3627],\n",
      "          [-0.1625, -0.1275, -0.3200,  ...,  0.2402,  0.2752,  0.3102]],\n",
      "\n",
      "         [[-0.7761, -0.7936, -0.8110,  ...,  0.1128,  0.0256,  0.1476],\n",
      "          [-0.7761, -0.7761, -0.7936,  ...,  0.0256, -0.0267,  0.0779],\n",
      "          [-0.7936, -0.7936, -0.7936,  ...,  0.1128, -0.0092, -0.0441],\n",
      "          ...,\n",
      "          [-0.1661, -0.0964, -0.2358,  ...,  0.3219,  0.3219,  0.3219],\n",
      "          [-0.1835, -0.1312, -0.3055,  ...,  0.2871,  0.3219,  0.3568],\n",
      "          [-0.2184, -0.1835, -0.3753,  ...,  0.2348,  0.2696,  0.3045]]]]) torch.Size([2, 3, 512, 512]) <class 'torch.Tensor'>\n",
      "['0000', '0001'] 2 <class 'list'>\n",
      "tensor([[[[-3.7399e+00, -3.7191e+00, -1.8393e+00,  ...,  1.4057e+00,\n",
      "            7.3838e-01,  1.8989e+00],\n",
      "          [-4.2484e+00, -5.9885e+00, -4.9822e+00,  ...,  1.4085e+00,\n",
      "            2.1568e+00, -1.2203e+00],\n",
      "          [-3.6095e+00, -4.3079e+00, -3.3577e+00,  ...,  4.4285e-01,\n",
      "            1.2630e-01,  1.2514e-01],\n",
      "          ...,\n",
      "          [-5.1178e-01, -1.8964e+00, -7.0734e-01,  ...,  5.1098e-01,\n",
      "           -2.9026e-01,  7.1063e-01],\n",
      "          [-5.3021e-01,  5.4337e-02,  4.2848e-01,  ..., -1.4806e+00,\n",
      "            9.5230e-01, -7.1661e-01],\n",
      "          [ 2.0764e-01, -8.8189e-01, -1.1448e-01,  ..., -1.0866e-01,\n",
      "            6.0419e-01,  1.1838e+00]],\n",
      "\n",
      "         [[ 8.0034e+00,  8.1561e+00,  1.0053e+01,  ...,  6.9982e+00,\n",
      "            6.0747e+00,  6.8557e+00],\n",
      "          [ 7.8054e+00,  6.3798e+00,  7.4492e+00,  ...,  7.1208e+00,\n",
      "            7.4557e+00,  3.7721e+00],\n",
      "          [ 8.8695e+00,  8.2511e+00,  9.3896e+00,  ...,  6.1264e+00,\n",
      "            5.3525e+00,  5.1272e+00],\n",
      "          ...,\n",
      "          [ 6.0094e+00,  4.9404e+00,  6.1313e+00,  ...,  4.0497e+00,\n",
      "            3.1329e+00,  3.8750e+00],\n",
      "          [ 5.8333e+00,  6.4300e+00,  6.9201e+00,  ...,  2.2347e+00,\n",
      "            4.1652e+00,  2.2387e+00],\n",
      "          [ 5.9819e+00,  5.1649e+00,  5.7687e+00,  ...,  3.4074e+00,\n",
      "            3.9027e+00,  4.0458e+00]],\n",
      "\n",
      "         [[ 1.4064e-01,  1.6000e-01,  1.9229e+00,  ...,  2.0397e-01,\n",
      "           -4.2023e-01,  7.1954e-01],\n",
      "          [-3.2842e-01, -1.8763e+00, -9.4514e-01,  ...,  2.4509e-01,\n",
      "            1.0094e+00, -2.4936e+00],\n",
      "          [ 4.8354e-01, -2.5781e-01,  7.7011e-01,  ..., -6.7208e-01,\n",
      "           -1.2782e+00, -1.1686e+00],\n",
      "          ...,\n",
      "          [-8.6230e-01, -1.9866e+00, -7.8647e-01,  ..., -1.7903e-01,\n",
      "           -1.0632e+00, -3.7066e-01],\n",
      "          [-6.4916e-01, -7.6588e-02,  2.4552e-01,  ..., -1.9462e+00,\n",
      "           -6.7995e-02, -1.6318e+00],\n",
      "          [ 1.0556e-02, -9.2809e-01, -5.2716e-01,  ..., -6.9376e-01,\n",
      "           -2.4556e-02,  4.6147e-01]],\n",
      "\n",
      "         ...,\n",
      "\n",
      "         [[-4.1749e+00, -3.9826e+00, -2.1649e+00,  ..., -2.5289e+00,\n",
      "           -3.2995e+00, -2.2176e+00],\n",
      "          [-4.6992e+00, -6.1352e+00, -5.1912e+00,  ..., -2.4840e+00,\n",
      "           -1.9575e+00, -5.2775e+00],\n",
      "          [-3.7110e+00, -4.4853e+00, -3.4624e+00,  ..., -3.7317e+00,\n",
      "           -4.1254e+00, -3.9781e+00],\n",
      "          ...,\n",
      "          [-2.5637e+00, -3.6945e+00, -2.5575e+00,  ..., -9.1066e-01,\n",
      "           -1.6775e+00, -8.9932e-01],\n",
      "          [-2.1964e+00, -1.6710e+00, -1.3337e+00,  ..., -2.6851e+00,\n",
      "           -4.7417e-01, -2.3221e+00],\n",
      "          [-1.9021e+00, -2.6916e+00, -1.9494e+00,  ..., -1.5651e+00,\n",
      "           -8.0274e-01, -6.3279e-01]],\n",
      "\n",
      "         [[-3.8398e+00, -3.6575e+00, -1.8978e+00,  ..., -2.7424e+00,\n",
      "           -3.3221e+00, -2.1152e+00],\n",
      "          [-4.1847e+00, -5.7235e+00, -5.0050e+00,  ..., -2.6919e+00,\n",
      "           -1.9474e+00, -5.2119e+00],\n",
      "          [-3.5132e+00, -4.2640e+00, -3.3784e+00,  ..., -3.7221e+00,\n",
      "           -4.1675e+00, -3.8600e+00],\n",
      "          ...,\n",
      "          [-1.8357e+00, -3.0118e+00, -1.9384e+00,  ...,  5.5131e-01,\n",
      "           -3.7744e-01,  5.1468e-01],\n",
      "          [-1.6683e+00, -1.2291e+00, -7.2503e-01,  ..., -1.3738e+00,\n",
      "            8.8429e-01, -1.0205e+00],\n",
      "          [-1.2120e+00, -1.8597e+00, -1.4611e+00,  ...,  9.6453e-02,\n",
      "            4.6278e-01,  8.3039e-01]],\n",
      "\n",
      "         [[-1.0416e+01, -1.0787e+01, -7.3170e+00,  ..., -7.4003e+00,\n",
      "           -8.5891e+00, -6.8816e+00],\n",
      "          [-1.0895e+01, -1.2482e+01, -1.1676e+01,  ..., -8.0772e+00,\n",
      "           -6.7105e+00, -9.7727e+00],\n",
      "          [-9.1639e+00, -1.0554e+01, -9.2496e+00,  ..., -7.6842e+00,\n",
      "           -8.5276e+00, -8.7453e+00],\n",
      "          ...,\n",
      "          [-6.3911e+00, -7.3448e+00, -5.3539e+00,  ..., -5.3582e+00,\n",
      "           -5.9818e+00, -4.2005e+00],\n",
      "          [-3.2983e+00, -2.7048e+00, -2.2942e+00,  ..., -4.9127e+00,\n",
      "           -3.4276e+00, -4.8103e+00],\n",
      "          [-2.8848e+00, -3.8889e+00, -3.1950e+00,  ..., -4.3336e+00,\n",
      "           -3.5755e+00, -2.8365e+00]]],\n",
      "\n",
      "\n",
      "        [[[-1.3300e+00, -1.4206e+00, -1.6778e+00,  ...,  2.5717e-01,\n",
      "           -3.2442e-01,  4.3029e-01],\n",
      "          [-2.0728e+00, -5.4566e-01, -2.1848e-01,  ..., -8.6989e-02,\n",
      "           -8.5809e-01,  4.7235e-01],\n",
      "          [-9.9771e-01, -1.2810e+00, -4.8847e-01,  ..., -3.9751e-01,\n",
      "            4.2536e-01,  1.0705e-02],\n",
      "          ...,\n",
      "          [-1.1622e+00, -1.0402e+00, -9.9815e-01,  ...,  5.3664e-01,\n",
      "           -7.0807e-01,  2.9026e-01],\n",
      "          [-1.4332e+00, -1.0803e+00, -1.4127e+00,  ..., -3.3563e-01,\n",
      "            9.0889e-01, -7.6366e-01],\n",
      "          [-5.7756e-02, -9.2046e-01, -1.3160e+00,  ..., -1.0226e-01,\n",
      "            8.4919e-01,  8.0281e-01]],\n",
      "\n",
      "         [[-2.1406e+00, -2.6808e+00, -2.8601e+00,  ..., -9.8277e-01,\n",
      "           -1.4499e+00, -7.6016e-01],\n",
      "          [-3.0988e+00, -1.6443e+00, -1.4901e+00,  ..., -1.4733e+00,\n",
      "           -1.9449e+00, -5.1185e-01],\n",
      "          [-2.2697e+00, -2.5780e+00, -1.6263e+00,  ..., -1.7261e+00,\n",
      "           -8.0299e-01, -1.2975e+00],\n",
      "          ...,\n",
      "          [-7.0328e-01, -3.9961e-01, -4.9971e-01,  ...,  4.5185e-02,\n",
      "           -8.8883e-01, -5.4303e-01],\n",
      "          [-6.5578e-01, -5.3540e-01, -7.9898e-01,  ..., -5.7553e-01,\n",
      "           -2.3515e-02, -1.6421e+00],\n",
      "          [ 3.2565e-01, -3.0775e-01, -7.9715e-01,  ..., -4.2261e-01,\n",
      "            4.5918e-01, -8.2448e-02]],\n",
      "\n",
      "         [[-1.1467e+00, -1.3174e+00, -1.6165e+00,  ..., -5.0520e-02,\n",
      "           -3.3077e-01,  3.0940e-01],\n",
      "          [-2.0955e+00, -4.2935e-01, -4.4417e-02,  ..., -1.4578e-01,\n",
      "           -1.0022e+00,  2.5848e-01],\n",
      "          [-8.9760e-01, -1.2400e+00, -2.1174e-01,  ..., -4.1908e-01,\n",
      "            2.3816e-01, -1.5002e-01],\n",
      "          ...,\n",
      "          [-7.7705e-01, -5.3559e-01, -4.5982e-01,  ..., -3.4158e-01,\n",
      "           -1.7055e+00, -1.0274e+00],\n",
      "          [-8.8601e-01, -5.2697e-01, -9.3745e-01,  ..., -9.6652e-01,\n",
      "           -8.2209e-01, -2.0975e+00],\n",
      "          [ 3.5247e-01, -4.0001e-01, -1.0850e+00,  ..., -1.0853e+00,\n",
      "           -2.1904e-01, -3.5273e-01]],\n",
      "\n",
      "         ...,\n",
      "\n",
      "         [[-4.2602e-02, -3.5263e-01, -6.1136e-01,  ..., -3.4294e-01,\n",
      "           -9.0190e-01, -7.0681e-03],\n",
      "          [-8.4907e-01,  7.0011e-01,  9.1271e-01,  ..., -6.9860e-01,\n",
      "           -1.3922e+00,  3.3417e-02],\n",
      "          [ 3.1093e-02, -1.3909e-01,  9.4783e-01,  ..., -9.5971e-01,\n",
      "           -1.7036e-01, -5.8092e-01],\n",
      "          ...,\n",
      "          [-1.5550e+00, -1.4111e+00, -1.4826e+00,  ...,  1.7198e-01,\n",
      "           -8.8863e-01, -1.5892e-01],\n",
      "          [-1.5516e+00, -1.2462e+00, -1.6379e+00,  ..., -4.0520e-01,\n",
      "            5.9197e-01, -1.2727e+00],\n",
      "          [-4.8310e-01, -1.0199e+00, -1.5468e+00,  ..., -5.9877e-01,\n",
      "            5.8015e-01, -1.0940e-01]],\n",
      "\n",
      "         [[ 5.5462e+00,  5.4729e+00,  5.3758e+00,  ...,  3.8655e+00,\n",
      "            3.2983e+00,  3.7716e+00],\n",
      "          [ 4.8687e+00,  6.4937e+00,  7.0135e+00,  ...,  3.6372e+00,\n",
      "            2.8013e+00,  3.9483e+00],\n",
      "          [ 5.8670e+00,  5.8054e+00,  6.9842e+00,  ...,  3.4038e+00,\n",
      "            4.0023e+00,  3.4342e+00],\n",
      "          ...,\n",
      "          [ 2.8859e+00,  3.2070e+00,  3.2071e+00,  ...,  3.5421e+00,\n",
      "            2.1340e+00,  2.8728e+00],\n",
      "          [ 2.6113e+00,  2.8614e+00,  2.6661e+00,  ...,  2.7796e+00,\n",
      "            3.6363e+00,  1.6433e+00],\n",
      "          [ 3.5649e+00,  2.9575e+00,  2.4378e+00,  ...,  2.7510e+00,\n",
      "            3.4913e+00,  3.0117e+00]],\n",
      "\n",
      "         [[-4.1897e+00, -4.2712e+00, -3.1055e+00,  ..., -5.0621e+00,\n",
      "           -4.3119e+00, -4.8055e+00],\n",
      "          [-5.1639e+00, -3.4378e+00, -3.4393e+00,  ..., -4.7655e+00,\n",
      "           -6.1016e+00, -4.7943e+00],\n",
      "          [-2.5415e+00, -4.2235e+00, -2.7729e+00,  ..., -5.6771e+00,\n",
      "           -4.9251e+00, -5.4833e+00],\n",
      "          ...,\n",
      "          [-5.6967e+00, -5.0528e+00, -3.9678e+00,  ..., -1.7725e+00,\n",
      "           -2.2442e+00, -1.6469e+00],\n",
      "          [-5.3158e+00, -5.0195e+00, -5.5484e+00,  ..., -2.4371e-01,\n",
      "           -1.3454e+00, -2.5616e+00],\n",
      "          [-3.6996e+00, -4.6263e+00, -5.0101e+00,  ..., -1.8189e+00,\n",
      "           -1.3797e+00, -2.0355e+00]]]], device='cuda:0') torch.Size([2, 7, 512, 512]) <class 'torch.Tensor'>\n"
     ]
    }
   ],
   "source": [
    "model.eval()\n",
    "cnt = 0\n",
    "for batch in test_loader:\n",
    "    if cnt > 0: break\n",
    "    img, filename = batch\n",
    "    print(img, img.shape, type(img))\n",
    "    print(filename, len(filename), type(filename))\n",
    "    with torch.no_grad():\n",
    "        output = model(img.to(device))\n",
    "    print(output, output.shape, type(output))\n",
    "    cnt += 1"
   ]
  },
  {
   "cell_type": "code",
   "execution_count": 80,
   "id": "199cbd12",
   "metadata": {},
   "outputs": [
    {
     "data": {
      "text/plain": [
       "torch.Size([2, 7, 512, 512])"
      ]
     },
     "execution_count": 80,
     "metadata": {},
     "output_type": "execute_result"
    }
   ],
   "source": [
    "output.shape"
   ]
  },
  {
   "cell_type": "code",
   "execution_count": 81,
   "id": "2992fd7b",
   "metadata": {},
   "outputs": [
    {
     "name": "stdout",
     "output_type": "stream",
     "text": [
      "torch.Size([2, 512, 512])\n"
     ]
    }
   ],
   "source": [
    "pred = output.argmax(dim = 1)\n",
    "print(pred.shape)"
   ]
  },
  {
   "cell_type": "code",
   "execution_count": 70,
   "id": "771464e7",
   "metadata": {
    "scrolled": true
   },
   "outputs": [
    {
     "data": {
      "text/plain": [
       "array([     0,      0,   8902,    332,      0, 252910])"
      ]
     },
     "execution_count": 70,
     "metadata": {},
     "output_type": "execute_result"
    }
   ],
   "source": [
    "np.bincount(pred[1].cpu().numpy().flatten())"
   ]
  },
  {
   "cell_type": "code",
   "execution_count": 82,
   "id": "2482b401",
   "metadata": {},
   "outputs": [],
   "source": [
    "color = [[0, 255, 255],[255, 255, 0], [255, 0, 255], [0, 255, 0], [0, 0, 255], [255, 255, 255], [0, 0, 0]]"
   ]
  },
  {
   "cell_type": "code",
   "execution_count": 71,
   "id": "47eaaf45",
   "metadata": {},
   "outputs": [
    {
     "name": "stdout",
     "output_type": "stream",
     "text": [
      "(512, 512)\n"
     ]
    }
   ],
   "source": [
    "first_img = pred[1].cpu().numpy()\n",
    "print(first_img.shape)"
   ]
  },
  {
   "cell_type": "code",
   "execution_count": 85,
   "id": "326f7f9a",
   "metadata": {
    "scrolled": true
   },
   "outputs": [],
   "source": [
    "for n in range(len(filename)):\n",
    "    img = pred[n].cpu().numpy()\n",
    "    opimg = np.zeros((img.shape[n], img.shape[n], 3), dtype = np.uint8)\n",
    "    for i in range(first_img.shape[0]):\n",
    "        for j in range(first_img.shape[1]):\n",
    "            opimg[i,j] = color[img[i][j]]\n",
    "    im = Image.fromarray(opimg)\n",
    "    im.save('{}.png'.format(filename[n]))"
   ]
  },
  {
   "cell_type": "code",
   "execution_count": 73,
   "id": "d61aadf8",
   "metadata": {},
   "outputs": [
    {
     "name": "stderr",
     "output_type": "stream",
     "text": [
      "Clipping input data to the valid range for imshow with RGB data ([0..1] for floats or [0..255] for integers).\n"
     ]
    },
    {
     "data": {
      "image/png": "[encoded data removed]",
      "text/plain": [
       "<Figure size 432x288 with 1 Axes>"
      ]
     },
     "metadata": {
      "needs_background": "light"
     },
     "output_type": "display_data"
    }
   ],
   "source": [
    "from matplotlib import pyplot as plt\n",
    "plt.imshow(opimg)\n",
    "plt.show()"
   ]
  },
  {
   "cell_type": "code",
   "execution_count": 79,
   "id": "88b2a303",
   "metadata": {},
   "outputs": [],
   "source": [
    "opimg = opimg.astype(np.uint8)\n",
    "im = Image.fromarray(opimg)\n",
    "im.save('0001.png')"
   ]
  },
  {
   "cell_type": "code",
   "execution_count": 35,
   "id": "d5a03b61",
   "metadata": {},
   "outputs": [],
   "source": [
    "mask = Image.open('0001.png') # .resize((224, 224))\n",
    "mask = np.array(mask).astype(np.uint8) # .reshape(224*224, 3)\n"
   ]
  },
  {
   "cell_type": "code",
   "execution_count": 36,
   "id": "8ee28fcf",
   "metadata": {},
   "outputs": [],
   "source": [
    "mask = (mask >= 128).astype(int)"
   ]
  },
  {
   "cell_type": "code",
   "execution_count": 37,
   "id": "fa410409",
   "metadata": {
    "scrolled": true
   },
   "outputs": [],
   "source": [
    "mask = 4 * mask[:, :, 0] + 2 * mask[:, :, 1] + mask[:, :, 2]"
   ]
  },
  {
   "cell_type": "code",
   "execution_count": 38,
   "id": "a1f715e7",
   "metadata": {
    "scrolled": true
   },
   "outputs": [
    {
     "data": {
      "text/plain": [
       "array([     0,      0,    332,      0,      0,   8902,      0, 252910])"
      ]
     },
     "execution_count": 38,
     "metadata": {},
     "output_type": "execute_result"
    }
   ],
   "source": [
    "np.bincount(mask.flatten())"
   ]
  },
  {
   "cell_type": "code",
   "execution_count": 42,
   "id": "5d7a161e",
   "metadata": {},
   "outputs": [
    {
     "data": {
      "text/plain": [
       "array([1, 2, 3, 0, 0, 0, 0, 0])"
      ]
     },
     "execution_count": 42,
     "metadata": {},
     "output_type": "execute_result"
    }
   ],
   "source": [
    "np.pad([1,2,3], (0, 8 - 3), mode='constant')"
   ]
  },
  {
   "cell_type": "markdown",
   "id": "0cd63324",
   "metadata": {},
   "source": [
    "# Contribution\n",
    "Many thanks to the following implementation.\n",
    "1. https://github.com/shelhamer/fcn.berkeleyvision.org/\n",
    "2. https://github.com/wkentaro/pytorch-fcn"
   ]
  }
 ],
 "metadata": {
  "kernelspec": {
   "display_name": "Python 3 (ipykernel)",
   "language": "python",
   "name": "python3"
  },
  "language_info": {
   "codemirror_mode": {
    "name": "ipython",
    "version": 3
   },
   "file_extension": ".py",
   "mimetype": "text/x-python",
   "name": "python",
   "nbconvert_exporter": "python",
   "pygments_lexer": "ipython3",
   "version": "3.9.7"
  }
 },
 "nbformat": 4,
 "nbformat_minor": 5
}
